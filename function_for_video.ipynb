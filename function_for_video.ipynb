{
  "nbformat": 4,
  "nbformat_minor": 0,
  "metadata": {
    "colab": {
      "provenance": [],
      "authorship_tag": "ABX9TyN+0Fxmz2JV6Ydcx5GL1exb",
      "include_colab_link": true
    },
    "kernelspec": {
      "name": "python3",
      "display_name": "Python 3"
    },
    "language_info": {
      "name": "python"
    }
  },
  "cells": [
    {
      "cell_type": "markdown",
      "metadata": {
        "id": "view-in-github",
        "colab_type": "text"
      },
      "source": [
        "<a href=\"https://colab.research.google.com/github/Sepren/Artificial-intelligence-specialist/blob/main/function_for_video.ipynb\" target=\"_parent\"><img src=\"https://colab.research.google.com/assets/colab-badge.svg\" alt=\"Open In Colab\"/></a>"
      ]
    },
    {
      "cell_type": "code",
      "execution_count": 5,
      "metadata": {
        "id": "j0XSlF9WJEar"
      },
      "outputs": [],
      "source": [
        "import cv2\n",
        "import numpy as np\n",
        "from pydub import AudioSegment\n",
        "from pydub.playback import play"
      ]
    },
    {
      "cell_type": "code",
      "source": [
        "def prepare_data(file_path: str) -> dict:\n",
        "    # Открываем видеофайл\n",
        "    cap = cv2.VideoCapture(file_path)\n",
        "\n",
        "    # Читаем первый кадр\n",
        "    ret, frame1 = cap.read()\n",
        "\n",
        "    # Читаем второй кадр\n",
        "    ret, frame2 = cap.read()\n",
        "\n",
        "    # Определяем частоту дискретизации для аудио\n",
        "    audio = AudioSegment.from_file(file_path, format=\"mp4\")\n",
        "    sample_rate = audio.frame_rate\n",
        "\n",
        "    # Выделяем 1 секунду аудио, начиная с момента ключ1\n",
        "    start_time_ms = 0  # Время начала ключ1 в миллисекундах\n",
        "    end_time_ms = 100  # Время окончания ключ1 (0.1 секунда) в миллисекундах\n",
        "    audio_segment = audio[start_time_ms:end_time_ms]\n",
        "\n",
        "    # Получаем спектральное представление аудио\n",
        "    audio_array = np.array(audio_segment.get_array_of_samples())\n",
        "\n",
        "    # Собираем результаты в словарь\n",
        "    dataset = {\n",
        "        \"key1\": frame1,\n",
        "        \"key2\": frame2,\n",
        "        \"key3\": audio_array\n",
        "    }\n",
        "\n",
        "    return dataset"
      ],
      "metadata": {
        "id": "sgPi9edpJF0G"
      },
      "execution_count": 9,
      "outputs": []
    },
    {
      "cell_type": "code",
      "source": [
        "# Пример использования\n",
        "# result = prepare_data(\"meow_cash.mp4\")\n",
        "print(prepare_data(\"meow_cash.mp4\"))\n",
        "# Доступ к данным\n",
        "frame1 = result[\"key1\"]\n",
        "# print(result[\"key1\"])\n",
        "frame2 = result[\"key2\"]\n",
        "# print(result[\"key2\"])\n",
        "audio_data = result[\"key3\"]\n",
        "# print(result[\"key3\"])"
      ],
      "metadata": {
        "colab": {
          "base_uri": "https://localhost:8080/",
          "height": 1000
        },
        "id": "fipnSVqqJYRz",
        "outputId": "a3987911-800b-406d-fba3-3d9abadd4782"
      },
      "execution_count": 12,
      "outputs": [
        {
          "output_type": "stream",
          "name": "stdout",
          "text": [
            "{'key1': array([[[161, 170, 190],\n",
            "        [161, 170, 190],\n",
            "        [161, 170, 190],\n",
            "        ...,\n",
            "        [  9,  11,  45],\n",
            "        [  9,  11,  45],\n",
            "        [  9,  11,  45]],\n",
            "\n",
            "       [[161, 170, 190],\n",
            "        [161, 170, 190],\n",
            "        [161, 170, 190],\n",
            "        ...,\n",
            "        [  9,  11,  45],\n",
            "        [  9,  11,  45],\n",
            "        [  9,  11,  45]],\n",
            "\n",
            "       [[161, 170, 190],\n",
            "        [161, 170, 190],\n",
            "        [161, 170, 190],\n",
            "        ...,\n",
            "        [  9,  11,  45],\n",
            "        [  9,  11,  45],\n",
            "        [  9,  11,  45]],\n",
            "\n",
            "       ...,\n",
            "\n",
            "       [[ 62,  73,  94],\n",
            "        [ 62,  73,  94],\n",
            "        [ 62,  73,  94],\n",
            "        ...,\n",
            "        [184, 215, 231],\n",
            "        [184, 215, 231],\n",
            "        [185, 216, 232]],\n",
            "\n",
            "       [[ 64,  75,  96],\n",
            "        [ 64,  75,  96],\n",
            "        [ 64,  75,  96],\n",
            "        ...,\n",
            "        [184, 215, 231],\n",
            "        [184, 215, 231],\n",
            "        [185, 216, 232]],\n",
            "\n",
            "       [[ 64,  75,  96],\n",
            "        [ 64,  75,  96],\n",
            "        [ 64,  75,  96],\n",
            "        ...,\n",
            "        [184, 215, 231],\n",
            "        [184, 215, 231],\n",
            "        [185, 216, 232]]], dtype=uint8), 'key2': array([[[162, 170, 187],\n",
            "        [162, 170, 187],\n",
            "        [162, 170, 187],\n",
            "        ...,\n",
            "        [  7,   9,  43],\n",
            "        [  7,   9,  43],\n",
            "        [  7,   9,  43]],\n",
            "\n",
            "       [[162, 170, 187],\n",
            "        [162, 170, 187],\n",
            "        [162, 170, 187],\n",
            "        ...,\n",
            "        [  7,   9,  43],\n",
            "        [  7,   9,  43],\n",
            "        [  7,   9,  43]],\n",
            "\n",
            "       [[162, 170, 187],\n",
            "        [162, 170, 187],\n",
            "        [162, 170, 187],\n",
            "        ...,\n",
            "        [  7,   9,  43],\n",
            "        [  7,   9,  43],\n",
            "        [  7,   9,  43]],\n",
            "\n",
            "       ...,\n",
            "\n",
            "       [[ 54,  65,  86],\n",
            "        [ 54,  65,  86],\n",
            "        [ 55,  66,  87],\n",
            "        ...,\n",
            "        [187, 216, 230],\n",
            "        [187, 216, 230],\n",
            "        [189, 218, 232]],\n",
            "\n",
            "       [[ 55,  66,  87],\n",
            "        [ 55,  66,  87],\n",
            "        [ 57,  68,  89],\n",
            "        ...,\n",
            "        [189, 218, 232],\n",
            "        [187, 216, 230],\n",
            "        [189, 218, 232]],\n",
            "\n",
            "       [[ 55,  66,  87],\n",
            "        [ 55,  66,  87],\n",
            "        [ 57,  68,  89],\n",
            "        ...,\n",
            "        [189, 218, 232],\n",
            "        [189, 218, 232],\n",
            "        [189, 218, 232]]], dtype=uint8), 'key3': array([   0,    0,    0, ..., -107, -191, -124], dtype=int16)}\n",
            "None\n"
          ]
        },
        {
          "output_type": "error",
          "ename": "TypeError",
          "evalue": "ignored",
          "traceback": [
            "\u001b[0;31m---------------------------------------------------------------------------\u001b[0m",
            "\u001b[0;31mTypeError\u001b[0m                                 Traceback (most recent call last)",
            "\u001b[0;32m<ipython-input-12-9191dd132111>\u001b[0m in \u001b[0;36m<cell line: 5>\u001b[0;34m()\u001b[0m\n\u001b[1;32m      3\u001b[0m \u001b[0mprint\u001b[0m\u001b[0;34m(\u001b[0m\u001b[0mprepare_data\u001b[0m\u001b[0;34m(\u001b[0m\u001b[0;34m\"meow_cash.mp4\"\u001b[0m\u001b[0;34m)\u001b[0m\u001b[0;34m)\u001b[0m\u001b[0;34m\u001b[0m\u001b[0;34m\u001b[0m\u001b[0m\n\u001b[1;32m      4\u001b[0m \u001b[0;31m# Доступ к данным\u001b[0m\u001b[0;34m\u001b[0m\u001b[0;34m\u001b[0m\u001b[0m\n\u001b[0;32m----> 5\u001b[0;31m \u001b[0mframe1\u001b[0m \u001b[0;34m=\u001b[0m \u001b[0mresult\u001b[0m\u001b[0;34m[\u001b[0m\u001b[0;34m\"key1\"\u001b[0m\u001b[0;34m]\u001b[0m\u001b[0;34m\u001b[0m\u001b[0;34m\u001b[0m\u001b[0m\n\u001b[0m\u001b[1;32m      6\u001b[0m \u001b[0;31m# print(result[\"key1\"])\u001b[0m\u001b[0;34m\u001b[0m\u001b[0;34m\u001b[0m\u001b[0m\n\u001b[1;32m      7\u001b[0m \u001b[0mframe2\u001b[0m \u001b[0;34m=\u001b[0m \u001b[0mresult\u001b[0m\u001b[0;34m[\u001b[0m\u001b[0;34m\"key2\"\u001b[0m\u001b[0;34m]\u001b[0m\u001b[0;34m\u001b[0m\u001b[0;34m\u001b[0m\u001b[0m\n",
            "\u001b[0;31mTypeError\u001b[0m: 'NoneType' object is not subscriptable"
          ]
        }
      ]
    }
  ]
}